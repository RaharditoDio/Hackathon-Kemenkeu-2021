{
 "cells": [
  {
   "cell_type": "markdown",
   "metadata": {},
   "source": [
    "# Pengenalan Pemrograman Python untuk Analisis Data"
   ]
  },
  {
   "cell_type": "markdown",
   "metadata": {},
   "source": [
    "### Sebelum memulai pengenalan 💡:\n",
    "\n",
    "- ✅ Pastikan __Anaconda Distribution__ sudah terpasang di perangkat masing-masing.\n",
    "- ✅ Pastikan __Jupyter Notebook__ sudah berjalan dengan baik.\n",
    "\n",
    "---\n",
    "\n",
    "Apabila terjadi kesulitan dalam instalasi, silakan mengakses [colab.research.google.com](http://colab.research.google.com \"Google Colab\") kemudian upload file ini."
   ]
  },
  {
   "cell_type": "markdown",
   "metadata": {},
   "source": [
    "### Pemanasan"
   ]
  },
  {
   "cell_type": "code",
   "execution_count": 3,
   "metadata": {},
   "outputs": [],
   "source": [
    "# Jalankan kode di bawah ini!\n",
    "import this"
   ]
  },
  {
   "cell_type": "code",
   "execution_count": 4,
   "metadata": {},
   "outputs": [
    {
     "name": "stdout",
     "output_type": "stream",
     "text": [
      "Hello, World!\n"
     ]
    }
   ],
   "source": [
    "print('Hello, World!')"
   ]
  },
  {
   "cell_type": "markdown",
   "metadata": {},
   "source": [
    "## Agenda\n",
    "\n",
    "1. Syntax\n",
    "2. Built-in Types\n",
    "3. Operator\n",
    "4. Function\n",
    "4. Control Flow\n",
    "6. Library"
   ]
  },
  {
   "cell_type": "markdown",
   "metadata": {},
   "source": [
    "## Syntax\n",
    "\n",
    "### Basic Syntax\n",
    "\n",
    "Sintaks dalam python bertujuan untuk memastikan kode yang dibuat mudah untuk dibaca dan dipahami. Untuk memastikan hal tersebut:\n",
    "\n",
    "- setiap perintah dan/atau komentar diakhiri dengan baris baru,\n",
    "- __indentasi diwajibkan__ untuk kode yang dibuat lebih dari satu baris,\n",
    "- Penggunaan semicolon (;) untuk mengakhiri baris tidak diperlukan kecuali untuk menggabungkan lebih dari satu baris,\n",
    "- Baris kode yang sangat panjang dapat dipisah menggunakan backslash (\\\\).\n",
    "\n",
    "selengkapnya, Python merekomendasikan penulisan kode sesuai dengan __[PEP 8 - Style Guide for Python Code](https://pep8.org/ \"Style Guide for Python Code\")__ \n",
    "\n",
    "Berikut contoh sintaks dalam python:\n",
    "\n",
    "```python\n",
    "\n",
    "# ini adalah contoh komentar, komentar didahului dengan tanda pagar.\n",
    "\n",
    "# contoh penerapan indentasi, perhatikan bahwa identasi dibuat setelah colon\n",
    "x = 2\n",
    "if x % 2 == 0:\n",
    "    print(\"Genap\")\n",
    "else:\n",
    "    print(\"Ganjil\")\n",
    "    \n",
    "# contoh penggabungan dua baris kode menggunakan semicolon\n",
    "y = 3; print(y)\n",
    "\n",
    "# contoh pemisahan kode menggunakan backslash\n",
    "very_big_number = 19283129121 \\\n",
    "                + 83129312933 \\\n",
    "                - 47281901923\n",
    "\n",
    "# pemisahan kode menggunakan operasi biner setelah dikurung\n",
    "another_big_number = (19283129121\n",
    "                    + 83129312933\n",
    "                    - 47281901923)\n",
    "\n",
    "```"
   ]
  },
  {
   "cell_type": "markdown",
   "metadata": {},
   "source": [
    "\n",
    "### Variabel\n",
    "\n",
    "Variabel adalah lokasi memori yang dicadangkan untuk menyimpan nilai-nilai.\n",
    "\n",
    "__kaidah penamaan variabel:__\n",
    "\n",
    "- Karakter pertama adalah huruf atau underscore (\\_)\n",
    "- Karakter selanjutnya dapat berupa huruf, angka, atau underscore\n",
    "- Tidak boleh ada spasi dan/atau karakter unik lain\n",
    "- Besar kecil huruf berpengaruh dalam penamaann variabel\n",
    "- tidak menggunakan _reserved words_\n",
    "\n",
    "Variabel harus ditetapkan sebelum variabel dipanggil, variabel dapat diupdate dengan menetapkan kembali variabel.\n",
    "\n",
    "💡 untuk menetapkan lebih dari satu variabel gunakan koma\n",
    "\n",
    "Contoh:\n",
    "\n",
    "```python\n",
    "pi = 3.14\n",
    "radius = 2\n",
    "luasLingkaran = pi * radius ** 2 \n",
    "\n",
    "nama = \"Badan Pendidikan dan Pelatihan Keuangan\"\n",
    "no_telp = \"02129054300\"\n",
    "```\n",
    "\n",
    "### Reserved Keyword\n",
    "\n",
    "**Jangan pernah menggunakan *Reserved Keyword* sebagai nama berikut sebagai variabel!**\n",
    "```\n",
    "and       del      from     not      while\n",
    "as        elif     global   or       with\n",
    "assert    else     if       pass     yield\n",
    "break     except   import   print\n",
    "class     exec     in       raise\n",
    "continue  finally  is       return\n",
    "def       for      lambda   try\n",
    "```"
   ]
  },
  {
   "cell_type": "markdown",
   "metadata": {},
   "source": [
    "## Built-in Data Type\n",
    "\n",
    "Python adalah bahasa pemrograman yang secara dinamis mendeteksi jenis data tanpa perlu mendeklarasikan jenis data sebelumnya(_Dynamic type checking_).\n",
    "\n",
    "Berikut beberapa tipe data yang disediakan oleh Python:"
   ]
  },
  {
   "cell_type": "markdown",
   "metadata": {},
   "source": [
    "\n",
    "### Numeric\n",
    "\n",
    "| Tipe | Jenis | Contoh | Penjelasan |\n",
    "|:---|:---:|:---:|:---|\n",
    "| __`int` (integer)__ | Numeric | __`101`__ | Bilangan Bulat (tidak mendukung pecahan) |\n",
    "| __`float` (float)__ | Numeric | __`1.01`__ | Bilangan Real (mendukung pecahan) |\n",
    "| __`complex` (complex)__ | Numeric | __(1+2j)__ | Bilangan Kompleks (bilangan real + imaginer) |\n",
    "\n",
    "untuk mengecek type data gunakan perintah type()\n"
   ]
  },
  {
   "cell_type": "code",
   "execution_count": 5,
   "metadata": {},
   "outputs": [
    {
     "name": "stdout",
     "output_type": "stream",
     "text": [
      "<class 'int'>\n"
     ]
    }
   ],
   "source": [
    "print(type(3))"
   ]
  },
  {
   "cell_type": "code",
   "execution_count": 6,
   "metadata": {},
   "outputs": [
    {
     "name": "stdout",
     "output_type": "stream",
     "text": [
      "<class 'int'> <class 'int'>\n",
      "<class 'float'>\n"
     ]
    }
   ],
   "source": [
    "# Python akan otomatis menyesuaikan tipe data numeric sesuai dengan kebutuhan\n",
    "\n",
    "x, y = 3, 2\n",
    "\n",
    "print(type(x), type(y))\n",
    "print(type(x / y))"
   ]
  },
  {
   "cell_type": "markdown",
   "metadata": {},
   "source": [
    "💡 Anda dapat \"Memaksa\" Python menerima tipe data yang anda tetapkan"
   ]
  },
  {
   "cell_type": "code",
   "execution_count": 7,
   "metadata": {},
   "outputs": [
    {
     "name": "stdout",
     "output_type": "stream",
     "text": [
      "1 <class 'int'>\n",
      "1 <class 'str'>\n"
     ]
    }
   ],
   "source": [
    "z = int(x / y)\n",
    "s = str(z)\n",
    "print(z, type(z))\n",
    "print(s, type(s))"
   ]
  },
  {
   "cell_type": "markdown",
   "metadata": {},
   "source": [
    "### Boolean\n",
    "\n",
    "Berupa nilai **benar (```True```)** dan **salah (```False```)**.\n",
    "\n",
    "**contoh:**\n",
    "\n",
    "```python\n",
    "logic = True #Tulisan tidak diapit tanda petik\n",
    "```"
   ]
  },
  {
   "cell_type": "markdown",
   "metadata": {},
   "source": [
    "### String\n",
    "\n",
    "Dalam Python, **String (```str```)** dianggap sebagai karakter yang berurutan.\n",
    "\n",
    "Type data string diapit dengan petik ganda maupun petik tunggal (\\') atau petik ganda(\\\")\n",
    "\n",
    "💡 Jika ingin menggunakan tanda petik tunggal atau ganda dalam string gunakan backslash(\\\\)\n",
    "\n",
    "**contoh:**\n",
    "```python\n",
    "unit = \"Kementerian Keuangan\"\n",
    "\n",
    "nama = 'A\\'isyah'\n",
    "```"
   ]
  },
  {
   "cell_type": "markdown",
   "metadata": {},
   "source": [
    "#### 💡 **Indexing/Slicing**\n",
    "\n",
    "Setiap karakter dalam string memiliki indeks\n",
    "```\n",
    "Positive Index   0  1  2  3  4  5  6  7  8  9 10\n",
    "                 K  E  B  A  N  G  K  I  T  A  N\n",
    "Negative Index -11-10 -9 -8 -7 -6 -5 -4 -3 -2 -1 \n",
    "```\n",
    "dengan indeks tersebut, string dapat \"dipotong\". Hasil slicing juga merupakan string.\n",
    "\n",
    "```string[start:finish:leap(optional)]```"
   ]
  },
  {
   "cell_type": "code",
   "execution_count": 8,
   "metadata": {},
   "outputs": [
    {
     "name": "stdout",
     "output_type": "stream",
     "text": [
      "k\n",
      "keb\n",
      "kita\n",
      "eagia\n",
      "natikgnabek\n"
     ]
    }
   ],
   "source": [
    "# Contoh penerapan slicing\n",
    "kata = 'kebangkitan'\n",
    "print(kata[0])\n",
    "print(kata[:3])\n",
    "print(kata[6:10])\n",
    "print(kata[1::2])\n",
    "print(kata[::-1])"
   ]
  },
  {
   "cell_type": "markdown",
   "metadata": {},
   "source": [
    "### List\n",
    "\n",
    "Untuk menyimpan lebih dari satu data/nilai dalam satu variabel. setiap komponen memiliki indeks (indexed) serta komponennya dapat ditambah/hapus/ubah (mutable).\n",
    "\n",
    "List dapat Berisi berbagai macam bentuk data.\n",
    "\n",
    "**contoh:**\n",
    "\n",
    "```python\n",
    "# List dengan satu tipe data\n",
    "nama = list('Alice', 'Bob', 'Charlie')\n",
    "tinggi = [150, 170, 190]\n",
    "# List dengan tipe data yang berbeda\n",
    "hari_merdeka = [17, 'Agustus', 1945]\n",
    "# List dapat berisi list lain\n",
    "menu =[\n",
    "    'Spam',\n",
    "    ['Egg', 'Spam'],\n",
    "    ['Egg', 'Bacon', 'Spam'],\n",
    "    ['Egg', 'Bacon', 'Sausages', 'Spam'],\n",
    "    [\n",
    "        ['Spam', 'Bacon'], \n",
    "        ['Sausages', 'Spam']\n",
    "    ]\n",
    "]\n",
    "```\n",
    "💡 karena memiliki indeks, list dapat menerima slicing."
   ]
  },
  {
   "cell_type": "code",
   "execution_count": 9,
   "metadata": {
    "scrolled": true
   },
   "outputs": [
    {
     "name": "stdout",
     "output_type": "stream",
     "text": [
      "Spam\n",
      "Spam\n",
      "Spam\n"
     ]
    }
   ],
   "source": [
    "# Contoh slicing pada list (diambil dari parodi monty python)\n",
    "menu =[\n",
    "    'Spam',\n",
    "    ['Egg', 'Spam'],\n",
    "    ['Egg', 'Bacon', 'Spam'],\n",
    "    ['Egg', 'Bacon', 'Sausages', 'Spam'],\n",
    "    [\n",
    "        ['Spam', 'Bacon'], \n",
    "        ['Sausages', 'Spam']\n",
    "    ]\n",
    "]\n",
    "\n",
    "print(menu[0])\n",
    "print(menu[1][-1])\n",
    "print(menu[-1][-1][-1])"
   ]
  },
  {
   "cell_type": "markdown",
   "metadata": {},
   "source": [
    "💡 dalam meng-assign list, **star assignment** (```*```) dapat digunakan untuk memungut nilai kedalam list"
   ]
  },
  {
   "cell_type": "code",
   "execution_count": 10,
   "metadata": {},
   "outputs": [
    {
     "name": "stdout",
     "output_type": "stream",
     "text": [
      "[3, 4, 5]\n"
     ]
    }
   ],
   "source": [
    "#Contoh star assignment\n",
    "a, b, *c = 1, 2, 3, 4, 5\n",
    "print(c)"
   ]
  },
  {
   "cell_type": "code",
   "execution_count": 11,
   "metadata": {},
   "outputs": [
    {
     "ename": "ValueError",
     "evalue": "too many values to unpack (expected 3)",
     "output_type": "error",
     "traceback": [
      "\u001b[1;31m---------------------------------------------------------------------------\u001b[0m",
      "\u001b[1;31mValueError\u001b[0m                                Traceback (most recent call last)",
      "\u001b[1;32m<ipython-input-11-022ef5604981>\u001b[0m in \u001b[0;36m<module>\u001b[1;34m\u001b[0m\n\u001b[0;32m      1\u001b[0m \u001b[1;31m#experiment star assignment\u001b[0m\u001b[1;33m\u001b[0m\u001b[1;33m\u001b[0m\u001b[1;33m\u001b[0m\u001b[0m\n\u001b[1;32m----> 2\u001b[1;33m \u001b[0ma\u001b[0m\u001b[1;33m,\u001b[0m \u001b[0mb\u001b[0m\u001b[1;33m,\u001b[0m \u001b[0mc\u001b[0m \u001b[1;33m=\u001b[0m \u001b[1;36m1\u001b[0m\u001b[1;33m,\u001b[0m \u001b[1;36m2\u001b[0m\u001b[1;33m,\u001b[0m \u001b[1;36m3\u001b[0m\u001b[1;33m,\u001b[0m \u001b[1;36m4\u001b[0m\u001b[1;33m,\u001b[0m \u001b[1;36m5\u001b[0m\u001b[1;33m\u001b[0m\u001b[1;33m\u001b[0m\u001b[0m\n\u001b[0m",
      "\u001b[1;31mValueError\u001b[0m: too many values to unpack (expected 3)"
     ]
    }
   ],
   "source": [
    "#experiment star assignment \n",
    "a, b, c = 1, 2, 3, 4, 5"
   ]
  },
  {
   "cell_type": "markdown",
   "metadata": {},
   "source": [
    "__Method yang digunakan untuk memodifikasi list__\n",
    "\n",
    "```python\n",
    "menu = ['Sausages', 'Bacon', 'Spam']\n",
    "```\n",
    "\n",
    "|Method| Deskripsi|Contoh |Hasil |\n",
    "|:--|:--|:--|:--|\n",
    "|append()| Menambahkan elemen ke dalam list pada urutan paling belakang | `menu.append('Egg')` | `menu = ['Sausages', 'Bacon', 'Spam', 'Egg']`|\n",
    "|clear()| Menghapus seluruh elemen dalam list | `menu.clear()` | `menu = []`\n",
    "|copy()| Menghasilkan kopi dari list | `menu2 = menu.copy()` | `menu2 = ['Sausages', 'Bacon', 'Spam']`|\n",
    "|count()| Menghasilkan jumlah elemen dalam satu list | `menu.count('Spam')` | `1` |\n",
    "|extend()| Menggabungkan elemen iterabel ke dalam list | `menu.extend(['Bean', 'Egg'])` | `menu = ['Sausages', 'Bacon', 'Spam', 'Bean', 'Egg']`|\n",
    "|index()| Menemukan lokasi pertama suatu elemen dalam list | `menu.index('Spam')` | `2` |\n",
    "|insert()| Menambahkan elemen ke dalam posisi tertentu dalam list | `menu.insert(0, 'Egg')` | `menu = ['Egg', 'Sausages', 'Bacon', 'Spam']`|\n",
    "|pop()| Menghapus elemen list yang berada dalam posisi terkait, secara default menghapus komponen terakhir dalam list | `menu.pop(0)` | `menu = ['Sausages', 'Spam']`|\n",
    "|remove()| Menghapus item pertama dengan nilai tertentu dalam suatu list | `menu.remove('Sausages')` | `menu = ['Bacon', 'Spam']`|\n",
    "|reverse()| membalik urutan list | `menu.reverse()` | `menu = ['Spam', 'Bacon', 'Sausages']` |\n",
    "|sort()| Mengurutkan elemen list | `menu.sort()` |`menu = ['Bacon', 'Sausages', 'Spam']`|"
   ]
  },
  {
   "cell_type": "markdown",
   "metadata": {},
   "source": [
    "### Tuple\n",
    "Adalah kumpulan objek Python yang setiap komponennya memiliki indeks (indexed) tetapi komponennya tidak dapat ditambah/hapus/ubah (immutable). disimbolkan dengan kurung.\n",
    "\n",
    "**contoh:**\n",
    "```python\n",
    "coordinate = tuple(2, 3)\n",
    "jakarta = (6.12, 106.49)\n",
    "```"
   ]
  },
  {
   "cell_type": "markdown",
   "metadata": {},
   "source": [
    "### Set\n",
    "\n",
    "adalah kumpulan object Python yang memiliki nilai unik (tidak menerima duplikasi) dan elemennya tidak dapat diakses dengan indeks (unindexed).\n",
    "\n",
    "**contoh :**\n",
    "```python\n",
    "a = set((1, 2, 3, 4, 5))\n",
    "b = {4, 5, 6, 7, 8}\n",
    "```\n",
    "\n",
    "__Method yang dapat digunakan untuk memodifikasi set__\n",
    "\n",
    "|Method| Deskripsi|Contoh |\n",
    "|:--|:--|:--|\n",
    "|add()|\tMenambahkan elemen ke dalam set pada urutan paling belakang | `a.update(6)` |\n",
    "|clear()|\tMenghapus seluruh elemen dalam set | `a.clear()` |\n",
    "|remove()|\tMenghapus elemen  tertentu dalam suatu set | `lst.remove('O')` | `lst = ['Y', 'O', 'S', 'A']`|\n",
    "|update()|\tMenambahkan iterable ke dalam set | `a.update([5, 6, 7])` |\n",
    "\n",
    "💡 Set dapat digunakan untuk menemukan elemen unik dalam suatu collective (String, list, tuple)"
   ]
  },
  {
   "cell_type": "code",
   "execution_count": 12,
   "metadata": {},
   "outputs": [
    {
     "name": "stdout",
     "output_type": "stream",
     "text": [
      "{'Egg', 'Bacon', 'Sausages', 'Spam'}\n"
     ]
    }
   ],
   "source": [
    "# Contoh: Menemukan jenis menu unik dalam parodi monty python\n",
    "menu = ['Egg', 'Bacon','Egg', 'Sausages', 'Bacon', 'Egg', 'Bacon', 'Spam', 'Egg', 'Bacon', \n",
    "        'Sausages', 'Spam', 'Spam', 'Bacon', 'Sausages', 'Spam', 'Spam', 'Egg', 'Spam', 'Spam',\n",
    "        'Bacon', 'Spam', 'Spam', 'Egg', 'Spam', 'Spam', 'Bacon', 'Spam']\n",
    "print(set(menu))"
   ]
  },
  {
   "cell_type": "markdown",
   "metadata": {},
   "source": [
    "### Dictionary"
   ]
  },
  {
   "cell_type": "markdown",
   "metadata": {},
   "source": [
    "## Operator\n",
    "\n",
    "Adalah simbol-simbol yang digunakan untuk memanipulasi nilai."
   ]
  },
  {
   "cell_type": "markdown",
   "metadata": {},
   "source": [
    "### Arithmetic Operator\n",
    "\n",
    "Digunakan untuk menjalankan operasi aritmatika\n",
    "\n",
    "| Operator | Deskripsi | Contoh | \n",
    "| :-: | :-- | :-:|\n",
    "| `+`| Penjumlahan | `x + y` | \n",
    "| `-`| Pengurangan | `x - y` | \n",
    "| `*`| Perkalian | `x * 4` | \n",
    "| `/`| Pembagian | `x / 5` | \n",
    "| `//`| Pembagian Bulat | `x // 3` |\n",
    "| `%`| Sisa Bagi | `x % 2`| \n",
    "| `**`| Pangkat | `x ** 2`|\n",
    "\n",
    "💡 gunakan kurung untuk memastikan arithmetic operator dijalankan terlebih dahulu"
   ]
  },
  {
   "cell_type": "markdown",
   "metadata": {},
   "source": [
    "### Assignment Operator\n",
    "\n",
    "Digunakan untuk meringkas operasi aritmetik suatu variabel\n",
    "\n",
    "|Operator|Contoh|Sama dengan|\n",
    "| :-: | :-: | :-:|\n",
    "|`=`\t|`x = 5`\t|`x = 5`|\t\n",
    "|`+=`\t|`x += 3`\t|`x = x + 3`|\t\n",
    "|`-=`\t|`x -= 3`\t|`x = x - 3`|\t\n",
    "|`*=`\t|`x *= 3`\t|`x = x * 3`|\t\n",
    "|`/=`\t|`x /= 3\t|`x = x / 3`|\t\n",
    "|`%=`\t|`x %= 3`\t|`x = x % 3`|\t\n",
    "|`//=`\t|`x //= 3`\t|`x = x // 3`|\t\n",
    "|`**=`\t|`x **= 3`\t|`x = x \\\\ 3`|"
   ]
  },
  {
   "cell_type": "markdown",
   "metadata": {},
   "source": [
    "### Comparison Operator\n",
    "\n",
    "Digunakan untuk membandingkan antara dua nilai.\n",
    "Menghasilkan nilai boolean (`True` atau `False`).\n",
    "\n",
    "| Operator | Deskripsi | Contoh | \n",
    "|:-:|:--|:-:|\n",
    "|== |\tsama dengan\t| x == y |\t\n",
    "|!=\t| tidak sama dengan\t| x != y\t|\n",
    "|>\t| lebih dari |\tx > y\t|\n",
    "|< | kurang dari |\tx < y |\t\n",
    "|>= |\tlebih dari atau sama dengan |\tx >= y |\t\n",
    "|<= |\tkurang dari atau sama dengan |\tx <= y |"
   ]
  },
  {
   "cell_type": "markdown",
   "metadata": {},
   "source": [
    "### Logical Operator \n",
    "\n",
    "Digunakan untuk mengkombinasikan nilai boolean.\n",
    "\n",
    "| Operator | Deskripsi | Contoh | \n",
    "|:-:|:--|:-:|\n",
    "|not|\tMembalik nilai boolean, menghasilkan nilai `False` jika peryataan bernilai `True` dan sebaliknya\t|```not(x < y)```|\n",
    "|and| Menghasilkan `True` hanya jika kedua pernyataan bernilai `True`\t|```x < 5 and  x < 10```\t|\n",
    "|or|\tMenghasilkan `True` jika salah satu pernyataan bernilai `True`\t|```x < 5 or x > 4``` |\t"
   ]
  },
  {
   "cell_type": "markdown",
   "metadata": {},
   "source": [
    "### Membership Operator\n",
    "\n",
    "Digunakan untuk menguji keanggotaan nilai dalam suatu himpunan/koleksi (string, list, tuple, maupun set)\n",
    "\n",
    "| Operator | Deskripsi | Contoh | \n",
    "|:-:|:--|:-:|\n",
    "| ```in``` |\tbernilai ```True``` jika nilai terdapat dalam suatu himpunan \t| ```'Egg' in menu``` |\t\n"
   ]
  },
  {
   "cell_type": "markdown",
   "metadata": {},
   "source": [
    "## Function\n",
    "\n",
    "Fungsi adalah blok kode terorganisir dan dapat digunakan kembali yang digunakan untuk melakukan sebuah tindakan/action. \n",
    "\n",
    "### Built-in Function pada Python\n",
    "\n",
    "Tidak setiap function harus kita buat di python, beberapa function telah disediakan oleh python di antaranya:\n",
    "\n",
    "|||Fungsi Bawaan|||\n",
    "|--|--|--|--|--|\n",
    "|abs()|delattr()|hash()|memoryview()|set()||\n",
    "all()|dict()|help()|min()|setattr()|\n",
    "|any()|dir()|hex()|next()|slice()|\n",
    "|ascii()|divmod()|id()|object()|sorted()|\n",
    "|bin()|enumerate()|input()|oct()|staticmethod()|\n",
    "|bool()|eval()|int()|open()|str()|\n",
    "|breakpoint()|exec()|isinstance()|ord()|sum()|\n",
    "|bytearray()|filter()|issubclass()|pow()|super()|\n",
    "|bytes()|float()|iter()|print()|tuple()|\n",
    "|callable()|format()|len()|property()|type()|\n",
    "|chr()|frozenset()|list()|range()|vars()|\n",
    "|classmethod()|getattr()|locals()|repr()|zip()|\n",
    "|compile()|globals()|map()|reversed()|\\_\\_import\\_\\_()|\n",
    "|complex()|hasattr()|max()|round()||\n",
    "\n",
    "Untuk memperoleh gambaran mengenai penggunaan function tersebut, anda dapat:\n",
    "\n",
    "- menggunakan perintah help(), contoh `help(max)`\n",
    "- menambahkan tanda tanya didepan function yang ingin diketahui, contoh: `?min`"
   ]
  },
  {
   "cell_type": "markdown",
   "metadata": {},
   "source": [
    "### Mendefinisikan fungsi dengan Python.\n",
    "\n",
    "- Fungsi blok dimulai dengan  kata kunci **def** diikuti oleh nama fungsi dan tanda kurung (())sebagai input.\n",
    "- Argumen adalah input dari luar fungsi untuk dapat diproses oleh fungsi.\n",
    "- Return mengembalikan nilai dari proses yang dilakukan sebagai output.\n",
    "\n",
    "Contoh Fungsi:\n",
    "\n",
    "```python\n",
    "# fungsi tanpa input\n",
    "def greet():\n",
    "    return \"Halo!\"\n",
    "\n",
    "# fungsi dengan satu input\n",
    "def luasLingkaran(radius):\n",
    "    return 3.14 * radius ** 2\n",
    "\n",
    "# fungsi dengan lebih dari satu input\n",
    "def luasBalok(panjang, lebar, tinggi):\n",
    "    return panjang * lebar * tinggi\n",
    "\n",
    "# penerapan star assignment untuk \"menangkap\" kumpulan kumpulan input\n",
    "def jumlah(*angka): \n",
    "    return sum(angka) #perhatian: tanda bintang tidak perlu dicantumkan kembali!\n",
    "\n",
    "# Fungsi yang mengembalikan nilai boolean\n",
    "def isEven(number):\n",
    "    return number % 2 == 0\n",
    "```"
   ]
  },
  {
   "cell_type": "code",
   "execution_count": 13,
   "metadata": {},
   "outputs": [],
   "source": [
    "def keduaTertinggi(*angka):\n",
    "    #monggo jika ada yang ingin eksperimen\n",
    "    pass"
   ]
  },
  {
   "cell_type": "markdown",
   "metadata": {},
   "source": [
    "### Lambda\n",
    "\n",
    "Pada python, kita dapat menulis function sederhana menggunakan lambda, dengan lambda function dapat dijalankan tanpa mendefinisikan function nya terlebih dahulu (anonymous function).\n",
    "\n",
    "contoh Lambda:\n",
    "\n",
    "```python\n",
    "# Contoh Lambda Function\n",
    "fx = lambda x: x**2 + 5*x + 6\n",
    "fx(4)\n",
    "\n",
    "# Contoh Lambda Function dengan dua variabel\n",
    "luasSegitiga = lambda alas, tinggi: alas * tinggi / 2\n",
    "luasSegitiga(2,3)\n",
    "```\n",
    "\n",
    "💡 Lambda akan sangat powerfull ketika digunakan bersama dengan map() untuk menghasilkan iterable baru"
   ]
  },
  {
   "cell_type": "code",
   "execution_count": 14,
   "metadata": {},
   "outputs": [
    {
     "name": "stdout",
     "output_type": "stream",
     "text": [
      "[3.14, 12.56, 28.26]\n"
     ]
    }
   ],
   "source": [
    "# Membuat list dengan menggunakan map() dan lambda\n",
    "\n",
    "radius = [1,2,3]\n",
    "luasLingkaran = list(map(lambda r : 3.14 * r ** 2, radius))\n",
    "print(luasLingkaran)"
   ]
  },
  {
   "cell_type": "code",
   "execution_count": 15,
   "metadata": {},
   "outputs": [],
   "source": [
    "# Membuat list dengan menggunakan map() dan lambda dengan dua variabel\n",
    "panjang = [4,5,6]\n",
    "lebar = [1,3,5]\n",
    "luasPersegi = None # Silakan jika ada yang ingin mengedit"
   ]
  },
  {
   "cell_type": "markdown",
   "metadata": {},
   "source": [
    "### Lingkup Variabel\n",
    "\n",
    "Kita dapat mengassign variabel dalam function agar kode lebih mudah terbaca:\n",
    "\n",
    "contoh:\n",
    "```python\n",
    "def luasTabung(radius, tinggi):\n",
    "    luasAlas = 3.14 * radius ** 2\n",
    "    return luasAlas * tinggi\n",
    "```\n",
    "\n",
    "Dalam menetapkan variabel dalam tubuh utama maupun secara global, perlu diperhatikan bahwa:\n",
    "\n",
    "- variabel yang ditetapkan dalam tubuh utama dapat diakses dalam function\n",
    "- variabel yang ditetapkan dalam function dapat digunakan di dalam function tersebut, tidak dapat digunakan di luar function\n",
    "- untuk membuat variabel dalam function berlaku secara global, gunakan perintah global (setelah function dijalankan).\n",
    "\n",
    "contoh:\n",
    "```python\n",
    "def constant():\n",
    "    global pi, phi\n",
    "    pi = 3.14\n",
    "    phi = 1.518\n",
    "\n",
    "constant()    \n",
    "print(pi)\n",
    "```"
   ]
  },
  {
   "cell_type": "markdown",
   "metadata": {},
   "source": [
    "## Control Flow\n",
    "\n",
    "- if statement\n",
    "- for\n",
    "- while\n",
    "- break, continue, pass"
   ]
  },
  {
   "cell_type": "markdown",
   "metadata": {},
   "source": [
    "### If Statement\n",
    "\n",
    "Digunakan untuk mengendalikan kode yang akan dieksekusi dengan memperhatikan pemenuhan terhadap kondisi tertentu.\n",
    "\n",
    "Syntax:\n",
    "\n",
    "```python\n",
    "\n",
    "if condition1:\n",
    "    # baris dieksekusi jika condition1 terpenuhi\n",
    "elif condition2:\n",
    "    # baris dieksekusi jika condition2 terpenuhi\n",
    "else:\n",
    "    # baris dieksekusi jika condition1 & condition2 tidak terpenuhi\n",
    "\n",
    "\n",
    "```\n",
    "\n",
    "Jika kode kita membutuhkan logika percabangan sederhana, kita bisa menggunakan **ternary if**. Contoh syntaxnya sebagai berikut:\n",
    "\n",
    "```python\n",
    "variable = condition1 if (condition is true) else condition2 \n",
    "```"
   ]
  },
  {
   "cell_type": "code",
   "execution_count": 16,
   "metadata": {},
   "outputs": [],
   "source": [
    "# contoh conditional: menentukan tahun kabisat\n",
    "def isLeapYear(year):\n",
    "    if year % 400 == 0:\n",
    "        return True\n",
    "    elif year % 100 == 0:\n",
    "        return False\n",
    "    elif year % 4:\n",
    "        return True\n",
    "    else:\n",
    "        return False"
   ]
  },
  {
   "cell_type": "code",
   "execution_count": 17,
   "metadata": {},
   "outputs": [
    {
     "data": {
      "text/plain": [
       "366"
      ]
     },
     "execution_count": 17,
     "metadata": {},
     "output_type": "execute_result"
    }
   ],
   "source": [
    "# Contoh iterary if dengan referensi ke function lainnya yang telah didefinisikan sebelumnya.\n",
    "def daysInYear(year):\n",
    "    return 366 if isLeapYear(year) else 365\n",
    "\n",
    "daysInYear(2001)"
   ]
  },
  {
   "cell_type": "markdown",
   "metadata": {},
   "source": [
    "💡 Python merupakan \"Truthy Language\", apabila value tidak sedang diuji kebenarannya maka segala suatu value selalu bernilai ```True``` kecuali:\n",
    "\n",
    "* ```None``` type\n",
    "* False\n",
    "* 0\n",
    "* Kumpulan/Himpunan kosong (), \\[\\], \"\""
   ]
  },
  {
   "cell_type": "code",
   "execution_count": 18,
   "metadata": {},
   "outputs": [
    {
     "data": {
      "text/plain": [
       "'odd'"
      ]
     },
     "execution_count": 18,
     "metadata": {},
     "output_type": "execute_result"
    }
   ],
   "source": [
    "# Contoh ternary if dengan pendekatan 'truthy logic'\n",
    "def oddEven(number):\n",
    "    return 'odd' if number % 2 else 'even'\n",
    "\n",
    "oddEven(3)"
   ]
  },
  {
   "cell_type": "code",
   "execution_count": 19,
   "metadata": {},
   "outputs": [],
   "source": [
    "## Kuis Intermezzo:\n",
    "\n",
    "# Menurut Python, mana yang lebih dulu? telur '🥚' atau ayam '🐔'?\n",
    "\n",
    "# hint : terkait dengan urutan dalam representasi karakter.\n",
    "\n",
    "def duluanMana(x, y):\n",
    "    pass"
   ]
  },
  {
   "cell_type": "markdown",
   "metadata": {},
   "source": [
    "### For loop\n",
    "\n",
    "Digunakan untuk mengeksekusi sebuah blok kode secara berulang berdasarkan sebuah iterable\n",
    "\n",
    "Syntax:\n",
    "\n",
    "```python\n",
    "for i in iterable:\n",
    "    # baris dieksekusi pada setiap loop\n",
    "```\n",
    "\n",
    "💡 iterable dapat berupa list, tuple, set, dictionary, string, maupun range.\n",
    "\n",
    "💡 range merupakan fungsi bawaan python untuk menghasilkan urutan angka secara otomatis:\n",
    "\n",
    "format : `range(start, finish, leap)` seperti pada teknik \"slicing\""
   ]
  },
  {
   "cell_type": "code",
   "execution_count": 20,
   "metadata": {},
   "outputs": [
    {
     "name": "stdout",
     "output_type": "stream",
     "text": [
      "1\n",
      "3\n",
      "5\n",
      "7\n",
      "9\n"
     ]
    }
   ],
   "source": [
    "# Contoh for loop penggunaan range:\n",
    "for i in range(1,11,2):\n",
    "    print(i)"
   ]
  },
  {
   "cell_type": "code",
   "execution_count": 21,
   "metadata": {
    "scrolled": true
   },
   "outputs": [
    {
     "name": "stdout",
     "output_type": "stream",
     "text": [
      "Hello, Alice!\n",
      "Hello, Bob!\n",
      "Hello, Charlie!\n"
     ]
    }
   ],
   "source": [
    "# Contoh for: melakukan iterasi\n",
    "names = [\"Alice\", \"Bob\", \"Charlie\"]\n",
    "\n",
    "for name in names:\n",
    "    print(\"Hello, \" + name + \"!\")"
   ]
  },
  {
   "cell_type": "markdown",
   "metadata": {},
   "source": [
    "### While Loop\n",
    "\n",
    "Digunakan untuk mengeksekusi sebuah blok kode secara berulang berdasarkan sebuah kondisi tertentu yang ditetapkan selama kondisi terpenuhi.\n",
    "\n",
    "Syntax:\n",
    "```python\n",
    "while condition:\n",
    "    # baris dieksekusi jika condtion == True    \n",
    "```\n",
    "\n",
    "⚠️ __WARNING!__ kesalahan dalam membuat kode while dapat membuat loop berjalan terus-menerus"
   ]
  },
  {
   "cell_type": "code",
   "execution_count": 22,
   "metadata": {},
   "outputs": [
    {
     "name": "stdout",
     "output_type": "stream",
     "text": [
      "0\n",
      "1\n",
      "2\n",
      "3\n",
      "4\n"
     ]
    }
   ],
   "source": [
    "# Contoh while loop\n",
    "\n",
    "i = 0\n",
    "while i < 5:\n",
    "    print(i)\n",
    "    i += 1 # baris ini diperlukan, jika tidak akan berisiko loop"
   ]
  },
  {
   "cell_type": "code",
   "execution_count": 23,
   "metadata": {},
   "outputs": [
    {
     "data": {
      "text/plain": [
       "300"
      ]
     },
     "execution_count": 23,
     "metadata": {},
     "output_type": "execute_result"
    }
   ],
   "source": [
    "# Penerapan while Loop: mencari kelipatan persekutuan terkecil (KPK) dari dua bilangan\n",
    "\n",
    "def KPK(x, y):\n",
    "    i = max(x, y)\n",
    "    while i % x or i % y:\n",
    "        i += 1 # baris ini diperlukan, jika tidak akan berisiko loop\n",
    "    return i\n",
    "\n",
    "KPK(12, 25)"
   ]
  },
  {
   "cell_type": "markdown",
   "metadata": {},
   "source": [
    "### Break and Continue\n",
    "\n",
    "- Break digunakan untuk menghentikan eksekusi kode pada sebuah iterasi\n",
    "- Continue digunakan untuk menghiraukan blok kode setelahnya dan melanjutkan proses iterasi"
   ]
  },
  {
   "cell_type": "code",
   "execution_count": 24,
   "metadata": {},
   "outputs": [
    {
     "name": "stdout",
     "output_type": "stream",
     "text": [
      "1\n",
      "2\n",
      "3\n",
      "4\n"
     ]
    }
   ],
   "source": [
    "for i in range(1, 10):\n",
    "    if i == 5:\n",
    "        break\n",
    "    else:\n",
    "        print(i)"
   ]
  },
  {
   "cell_type": "code",
   "execution_count": 25,
   "metadata": {},
   "outputs": [
    {
     "name": "stdout",
     "output_type": "stream",
     "text": [
      "1\n",
      "2\n",
      "4\n",
      "5\n",
      "7\n",
      "8\n"
     ]
    }
   ],
   "source": [
    "for i in range(1, 10):\n",
    "    if i % 3 == 0:\n",
    "        continue\n",
    "    else:\n",
    "        print(i)"
   ]
  },
  {
   "cell_type": "code",
   "execution_count": 26,
   "metadata": {},
   "outputs": [
    {
     "data": {
      "text/plain": [
       "8"
      ]
     },
     "execution_count": 26,
     "metadata": {},
     "output_type": "execute_result"
    }
   ],
   "source": [
    "# Penerapan break dan continue: menemukan Faktor Persekutuan Terbesar\n",
    "def FPB(x, y):\n",
    "    for i in range(min(x,y), 0, -1):\n",
    "        if x % i or y % i:\n",
    "            continue\n",
    "        else:\n",
    "            return i\n",
    "            break\n",
    "        \n",
    "\n",
    "a, b = 32, 40\n",
    "FPB(a,b)"
   ]
  },
  {
   "cell_type": "markdown",
   "metadata": {},
   "source": [
    "## Libraries\n",
    "\n",
    "merupakan sekumpulan modul, function, object, maupun method yang didistribusikan untuk dapat digunakan secara luas.\n",
    "\n",
    "Contoh:\n",
    "\n",
    "- math\n",
    "- pandas\n",
    "- statistics\n",
    "- matplotlib\n",
    "- scikitlearn\n",
    "- nltk\n",
    "- keras\n",
    "\n",
    "### Cara Install Library\n",
    "\n",
    "Untuk menginstall library pihak ketiga kita bisa menggunakan perintah:\n",
    "1. ```pip install nama_library``` atau\n",
    "2. ```pip i nama_library```\n",
    "\n",
    "### Cara Menggunakan Library\n",
    "Untuk menggunakan sebuah library kita perlu melakukan import\n",
    "\n",
    "Contoh:\n",
    "```python\n",
    "import math\n",
    "\n",
    "math.pi\n",
    "```\n",
    "\n",
    "Kita bisa menggunakan aliasing untuk library yang kita import\n",
    "\n",
    "```python\n",
    "import numpy as np\n",
    "\n",
    "from matplotlib import pyplot as plt\n",
    "```\n",
    "\n",
    "Kita bise melakukan import beberapa bagian saja pada library\n",
    "\n",
    "```python\n",
    "from  math import ceil, floor\n",
    "```"
   ]
  },
  {
   "cell_type": "code",
   "execution_count": 27,
   "metadata": {},
   "outputs": [
    {
     "data": {
      "text/plain": [
       "78.53981633974483"
      ]
     },
     "execution_count": 27,
     "metadata": {},
     "output_type": "execute_result"
    }
   ],
   "source": [
    "from math import pi as Pi\n",
    "\n",
    "def luasLingkaran(radius):\n",
    "    return Pi * radius ** 2\n",
    "\n",
    "luasLingkaran(5)"
   ]
  }
 ],
 "metadata": {
  "kernelspec": {
   "display_name": "Python 3",
   "language": "python",
   "name": "python3"
  },
  "language_info": {
   "codemirror_mode": {
    "name": "ipython",
    "version": 3
   },
   "file_extension": ".py",
   "mimetype": "text/x-python",
   "name": "python",
   "nbconvert_exporter": "python",
   "pygments_lexer": "ipython3",
   "version": "3.8.3"
  }
 },
 "nbformat": 4,
 "nbformat_minor": 5
}
